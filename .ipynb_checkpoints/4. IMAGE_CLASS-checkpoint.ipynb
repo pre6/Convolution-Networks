{
 "cells": [
  {
   "cell_type": "markdown",
   "id": "bec8a551-6df6-41ae-babd-44069f8500f4",
   "metadata": {},
   "source": [
    "# Creating a class for Image manipulations\n",
    "<h1>Introduction</h1>\n",
    "\n",
    "Its hard when I have to call the same functions over and over to do the same manipulations. I was thinking I could make a class and some methods that would do the same thing. \n",
    "so here is the image to wavelength method. I will be creating more methos for each of the retinas."
   ]
  },
  {
   "cell_type": "code",
   "execution_count": 1,
   "id": "de5e6be2-73d2-4b7a-9609-090cd06788c5",
   "metadata": {},
   "outputs": [
    {
     "name": "stdout",
     "output_type": "stream",
     "text": [
      "[[446.42857143 450.         450.         ... 617.23404255 617.23404255\n",
      "  617.23404255]\n",
      " [446.42857143 446.42857143 450.         ... 617.23404255 617.23404255\n",
      "  617.23404255]\n",
      " [446.15384615 442.85714286 446.42857143 ... 617.27272727 617.27272727\n",
      "  617.27272727]\n",
      " ...\n",
      " [429.72972973 429.72972973 431.08108108 ... 478.57142857 480.\n",
      "  480.57692308]\n",
      " [429.72972973 429.72972973 429.72972973 ... 465.         468.88888889\n",
      "  468.        ]\n",
      " [429.72972973 429.72972973 429.72972973 ... 458.88888889 460.64516129\n",
      "  460.58823529]]\n"
     ]
    }
   ],
   "source": [
    "from PIL import Image\n",
    "import numpy as np\n",
    "import colorsys\n",
    "\n",
    "class ImageConverter:\n",
    "    \n",
    "    def __init__(self, image_path):\n",
    "        # ImageConverter(path of file)\n",
    "        self.image_path = image_path\n",
    "        # coverts it to RBG\n",
    "        self.image = Image.open(image_path).convert(\"RGB\")\n",
    "    \n",
    "    @staticmethod\n",
    "    def rgb_to_wavelength(r, g, b):\n",
    "        # Normalize RGB values to the range [0, 1]\n",
    "        r, g, b = r / 255.0, g / 255.0, b / 255.0\n",
    "        \n",
    "        # Convert RGB to HSV\n",
    "        h, s, v = colorsys.rgb_to_hsv(r, g, b)\n",
    "        \n",
    "        # Convert hue to degrees\n",
    "        h_deg = h * 360\n",
    "        \n",
    "        # Map hue to wavelength\n",
    "        if 0 <= h_deg < 60:\n",
    "            wavelength = 620 - (h_deg / 60) * (620 - 590)\n",
    "        elif 60 <= h_deg < 120:\n",
    "            wavelength = 590 - ((h_deg - 60) / 60) * (590 - 495)\n",
    "        elif 120 <= h_deg < 180:\n",
    "            wavelength = 495 - ((h_deg - 120) / 60) * (495 - 480)\n",
    "        elif 180 <= h_deg < 240:\n",
    "            wavelength = 480 - ((h_deg - 180) / 60) * (480 - 450)\n",
    "        elif 240 <= h_deg < 300:\n",
    "            wavelength = 450 - ((h_deg - 240) / 60) * (450 - 400)\n",
    "        else:\n",
    "            wavelength = 400 + ((h_deg - 300) / 60) * (620 - 400)\n",
    "        \n",
    "        return wavelength\n",
    "\n",
    "    @staticmethod\n",
    "    def rgb_to_brightness(r, g, b):\n",
    "        # Convert RGB to HSV to get the brightness (value) component\n",
    "        h, s, v = colorsys.rgb_to_hsv(r/255.0, g/255.0, b/255.0)\n",
    "        return v * 255\n",
    "\n",
    "    \n",
    "    def image_to_wavelengths(self):\n",
    "        # Get image dimensions\n",
    "        width, height = self.image.size\n",
    "        \n",
    "        # Create an array to hold the wavelength values\n",
    "        wavelength_array = np.zeros((height, width))\n",
    "        \n",
    "        # Process each pixel\n",
    "        for y in range(height):\n",
    "            for x in range(width):\n",
    "                r, g, b = self.image.getpixel((x, y))\n",
    "                wavelength = self.rgb_to_wavelength(r, g, b)\n",
    "                wavelength_array[y, x] = wavelength\n",
    "        \n",
    "        return wavelength_array\n",
    "\n",
    "\n",
    "\n",
    "    def image_to_brightness(self):\n",
    "        # Get image dimensions\n",
    "        width, height = self.image.size\n",
    "        \n",
    "        # Create an array to hold the wavelength values\n",
    "        wavelength_array_b = np.zeros((height, width))\n",
    "        \n",
    "        # Process each pixel\n",
    "        for y in range(height):\n",
    "            for x in range(width):\n",
    "                r, g, b = self.image.getpixel((x, y))\n",
    "                brightness = self.rgb_to_brightness(r, g, b)\n",
    "                wavelength_array_b[y, x] = brightness\n",
    "        \n",
    "        return wavelength_array_b\n",
    "\n",
    "# Example usage\n",
    "converter = ImageConverter(\"text_image_1.jpg\")\n",
    "wavelengths = converter.image_to_wavelengths()\n",
    "print(wavelengths)"
   ]
  },
  {
   "cell_type": "code",
   "execution_count": 2,
   "id": "aa9367b6-6c52-4255-8b16-dd915edeac36",
   "metadata": {},
   "outputs": [
    {
     "name": "stdout",
     "output_type": "stream",
     "text": [
      "[[ 14.  13.  13. ... 178. 177. 176.]\n",
      " [ 14.  14.  13. ... 176. 177. 177.]\n",
      " [ 13.  14.  14. ... 178. 177. 178.]\n",
      " ...\n",
      " [116. 117. 118. ...  90.  89.  88.]\n",
      " [114. 112. 117. ...  97.  96. 103.]\n",
      " [113. 115. 116. ... 111. 113. 119.]]\n"
     ]
    }
   ],
   "source": [
    "converter = ImageConverter(\"text_image_1.jpg\")\n",
    "brightness = converter.image_to_brightness()\n",
    "print(brightness)"
   ]
  },
  {
   "cell_type": "code",
   "execution_count": null,
   "id": "2f320730-b6cd-4734-9785-94933f8e3c6b",
   "metadata": {},
   "outputs": [],
   "source": []
  }
 ],
 "metadata": {
  "kernelspec": {
   "display_name": "Python 3 (ipykernel)",
   "language": "python",
   "name": "python3"
  },
  "language_info": {
   "codemirror_mode": {
    "name": "ipython",
    "version": 3
   },
   "file_extension": ".py",
   "mimetype": "text/x-python",
   "name": "python",
   "nbconvert_exporter": "python",
   "pygments_lexer": "ipython3",
   "version": "3.11.5"
  }
 },
 "nbformat": 4,
 "nbformat_minor": 5
}
