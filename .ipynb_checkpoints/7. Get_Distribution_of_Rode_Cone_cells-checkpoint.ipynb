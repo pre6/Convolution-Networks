{
 "cells": [
  {
   "cell_type": "markdown",
   "id": "2298921e-b55e-4cab-a8a0-b31044446401",
   "metadata": {},
   "source": [
    "# Getting the distributions of the Rods and cone cells\n",
    "\n",
    "Im not really sure how to do this.  really have to think about how i want to show the fovea vs the cone and rod cells.\n",
    "\n",
    "one get the size of the input image. \n",
    "\n",
    "how to approximate the size of the foevea?"
   ]
  },
  {
   "cell_type": "code",
   "execution_count": 18,
   "id": "6945cf91-d572-496e-8c06-1b9283221a7a",
   "metadata": {},
   "outputs": [],
   "source": [
    "from PIL import Image\n",
    "import numpy as np\n",
    "import colorsys\n",
    "import matplotlib.pyplot as plt\n",
    "import matplotlib.image as mpimg\n",
    "import math\n",
    "\n",
    "\n"
   ]
  },
  {
   "cell_type": "markdown",
   "id": "0e0d637a-3a99-47df-aa44-60a78c9f993c",
   "metadata": {},
   "source": [
    "1. get the shape of the images\n",
    "2. calculate how much is 0.5% of the total number of pixels\n",
    "3. get all the factors of the number of the 0.5% pixels\n",
    "4. get the middle two factors\n",
    "5. find half the length and half the width of the shape file, that will be the starting pixel.\n",
    "6. then find half the width and half the length of the fovea thats the length that you add on and subtract in the starting pixel\n",
    "7. create a filter and find the appropriate pixels for the fovea.\n",
    "8. each pixel with have a number 1, 2 3 4. each number corresponds to a type of cell. "
   ]
  },
  {
   "cell_type": "markdown",
   "id": "2c52c956-754a-410f-b784-4dd493e638d0",
   "metadata": {},
   "source": [
    "<h1>Distribution of numbers of each type of cell</h1>\n",
    "\n",
    "\n",
    "The distribution of photoreceptor cells in the human retina varies across different regions and includes a mix of S-cones, M-cones, L-cones, and rod cells. \n",
    "Here's an overview of their distribution:\n",
    "\n",
    "Overall numbers:\n",
    "\n",
    "- Rods: There are approximately 92-120 million rod cells in the human retina.\n",
    "- Cones: The human retina contains about 6-7 million cone cells in total.\n",
    "\n",
    "Fovea:\n",
    "\n",
    "- L-cones and M-cones are most concentrated in the fovea tightly packed\n",
    "- S-cones are absent from the center of the human fovea.\n",
    "- Rod cells are absent from the fovea.\n",
    "\n",
    "Distribution of cone types:\n",
    "\n",
    "- L-cones (sensitive to long wavelengths) and M-cones (sensitive to medium wavelengths) are the most numerous, with L-cones typically outnumbering M-cones.\n",
    "- The ratio of L-cones to M-cones varies among individuals, with some studies showing ratios like 75.8% L-cones to 20.0% M-cones, or 50.6% L-cones to 44.2% M-cones.\n",
    "- S-cones (sensitive to short wavelengths) make up only about 5-10% of the total cone population and are more peripherally located in the retina.\n",
    "\n",
    "Peripheral retina:\n",
    "\n",
    "- Rod cells dominate the peripheral retina, where they are more numerous than cones.\n",
    "- Cones become less densely packed towards the periphery of the retina.\n",
    "\n",
    "It's important to note that the exact distribution and ratios of photoreceptor cells can vary among individuals. The retinal mosaic, which refers to the overall distribution of rods and cones, is designed to optimize visual function in different lighting conditions and for various visual tasks.\n",
    "\n",
    "ref plain old wikipedia:  https://en.wikipedia.org/wiki/Cone_cell\n"
   ]
  },
  {
   "cell_type": "markdown",
   "id": "1d81fe02-d5bf-4831-8f6d-4cf223659aad",
   "metadata": {},
   "source": [
    "## 1 to 4\n"
   ]
  },
  {
   "cell_type": "code",
   "execution_count": 27,
   "id": "eac6e61c-a66d-4ba7-b325-112cb0ed6aae",
   "metadata": {},
   "outputs": [],
   "source": [
    "from image_class import ImageConverter\n",
    "\n",
    "\n",
    "# Example usage\n",
    "converter = ImageConverter(\"text_image_1.jpg\")\n",
    "\n",
    "total_pixels = converter.image.size[0] * converter.image.size[1] \n",
    "fovea_pixls = total_pixels * 0.005\n",
    "\n",
    "\n",
    "def round_to_even(number):\n",
    "    rounded = round(number)\n",
    "    # Check if rounded number is odd\n",
    "    if rounded % 2 != 0:\n",
    "        # If the original number is greater than the rounded number, round up to the next even number\n",
    "        if number > rounded:\n",
    "            return rounded + 1\n",
    "        # If the original number is less than the rounded number, round down to the previous even number\n",
    "        else:\n",
    "            return rounded - 1\n",
    "    return rounded\n",
    "\n",
    "fovea_pixls = round_to_even(fovea_pixls)"
   ]
  },
  {
   "cell_type": "code",
   "execution_count": 28,
   "id": "0f20a3b1-22aa-4d3d-8306-12945daaa6bf",
   "metadata": {},
   "outputs": [
    {
     "name": "stdout",
     "output_type": "stream",
     "text": [
      "1049088\n",
      "5246\n"
     ]
    }
   ],
   "source": [
    "print(total_pixels)\n",
    "print(fovea_pixls)"
   ]
  },
  {
   "cell_type": "code",
   "execution_count": 31,
   "id": "6f5f64de-3c81-43e1-9de5-c7da231fe3e4",
   "metadata": {},
   "outputs": [],
   "source": [
    "\n",
    "\n",
    "def find_factors(n):\n",
    "    factors = set()\n",
    "    for i in range(1, int(math.sqrt(n)) + 1):\n",
    "        if n % i == 0:\n",
    "            factors.add(i)\n",
    "            factors.add(n // i)\n",
    "    return sorted(factors)\n",
    "\n"
   ]
  },
  {
   "cell_type": "code",
   "execution_count": 32,
   "id": "0765be4f-e6cb-46d2-86cd-4f578b261dd5",
   "metadata": {},
   "outputs": [],
   "source": [
    "def middle_two_factors(n):\n",
    "    factors = find_factors(n)\n",
    "    length = len(factors)\n",
    "    \n",
    "    if length % 2 == 0:\n",
    "        middle_index = length // 2\n",
    "        return factors[middle_index - 1], factors[middle_index]\n",
    "    else:\n",
    "        # For numbers with an odd number of factors, return the middle one repeated\n",
    "        middle_index = length // 2\n",
    "        return factors[middle_index], factors[middle_index]"
   ]
  },
  {
   "cell_type": "code",
   "execution_count": 34,
   "id": "4447580d-d4b5-4d3c-8611-a38d6513cb43",
   "metadata": {},
   "outputs": [
    {
     "name": "stdout",
     "output_type": "stream",
     "text": [
      "(69, 76)\n"
     ]
    }
   ],
   "source": [
    "# Example usage\n",
    "number = 5244\n",
    "middle_factors = middle_two_factors(number)\n",
    "print(middle_factors) "
   ]
  },
  {
   "cell_type": "markdown",
   "id": "ecfea1a8-03ac-4fd3-9c11-4f96710fa080",
   "metadata": {},
   "source": [
    "# 5. get the starting pixel of the fovea\n"
   ]
  },
  {
   "cell_type": "code",
   "execution_count": 50,
   "id": "5953d8f7-11dc-406a-83b3-acc84faa120a",
   "metadata": {},
   "outputs": [],
   "source": [
    "\n",
    " length= converter.image.size[0] \n",
    " width= converter.image.size[1] \n",
    "fovea_width = middle_factors[0]\n",
    "fovea_length = middle_factors[1]\n"
   ]
  },
  {
   "cell_type": "code",
   "execution_count": 51,
   "id": "8e726af1-e4a2-41b3-b723-bedba914335d",
   "metadata": {},
   "outputs": [
    {
     "name": "stdout",
     "output_type": "stream",
     "text": [
      "768\n",
      "1366\n",
      "76\n",
      "69\n"
     ]
    }
   ],
   "source": [
    "print(width)\n",
    "print(length)\n",
    "print(fovea_length)\n",
    "print(fovea_width)"
   ]
  },
  {
   "cell_type": "code",
   "execution_count": 52,
   "id": "60642e5e-d513-4afb-9fca-139f7e431ca2",
   "metadata": {},
   "outputs": [
    {
     "name": "stdout",
     "output_type": "stream",
     "text": [
      "The fovea starts at pixel: (349, 645)\n"
     ]
    }
   ],
   "source": [
    "def calculate_fovea_corner(width_retina, height_retina, width_fovea, height_fovea):\n",
    "    x_start = (width_retina - width_fovea) // 2\n",
    "    y_start = (height_retina - height_fovea) // 2\n",
    "    return x_start, y_start\n",
    "\n",
    "\n",
    "fovea_corner = calculate_fovea_corner(width, length, fovea_width, fovea_length)\n",
    "print(f\"The fovea starts at pixel: {fovea_corner}\")"
   ]
  },
  {
   "cell_type": "code",
   "execution_count": 57,
   "id": "85bef42e-bfe6-4bb2-b651-5d580c02b9d2",
   "metadata": {},
   "outputs": [
    {
     "data": {
      "image/png": "[encoded data removed]",
      "text/plain": [
       "<Figure size 640x480 with 1 Axes>"
      ]
     },
     "metadata": {},
     "output_type": "display_data"
    }
   ],
   "source": [
    "\n",
    "def create_retina_with_fovea(width, length, fovea_width, fovea_length):\n",
    "    # Create a retina grid filled with zeros\n",
    "    retina = np.zeros((width,length))\n",
    "    \n",
    "    # Calculate the starting position of the fovea\n",
    "    y_start= (width - fovea_width) // 2\n",
    "    x_start= (length - fovea_length) // 2\n",
    "    \n",
    "    # Fill the fovea area with ones\n",
    "    retina[y_start:y_start + fovea_length, x_start:x_start + fovea_width] = 1\n",
    "    \n",
    "    return retina\n",
    "\n",
    "\n",
    "# Create the retina grid with fovea\n",
    "retina = create_retina_with_fovea(width,length,fovea_width , fovea_length)\n",
    "\n",
    "# Plot the result using matplotlib\n",
    "plt.imshow(retina, cmap='gray')\n",
    "plt.title(\"Retina with Fovea\")\n",
    "plt.show()"
   ]
  },
  {
   "cell_type": "markdown",
   "id": "6fcf033f-64d2-40aa-97a0-b3e4d0180542",
   "metadata": {},
   "source": [
    "### add the filters\n"
   ]
  },
  {
   "cell_type": "code",
   "execution_count": 79,
   "id": "c8f6eb09-73e0-4db6-96ce-ac7f0c6a11a3",
   "metadata": {},
   "outputs": [
    {
     "name": "stdout",
     "output_type": "stream",
     "text": [
      "[[1. 1. 1. 1. 1. 1. 1. 1. 1. 1. 1. 1. 1. 1. 1. 1. 1. 1. 1. 1.]\n",
      " [1. 1. 1. 1. 1. 1. 1. 1. 1. 1. 1. 1. 1. 1. 1. 1. 1. 1. 1. 1.]\n",
      " [1. 1. 1. 1. 1. 1. 1. 1. 1. 1. 1. 1. 1. 1. 1. 1. 1. 1. 1. 1.]\n",
      " [1. 1. 1. 1. 1. 1. 1. 1. 1. 1. 1. 1. 1. 1. 1. 1. 1. 1. 1. 1.]\n",
      " [1. 1. 1. 1. 1. 1. 1. 1. 1. 1. 1. 1. 1. 1. 1. 1. 1. 1. 1. 1.]\n",
      " [1. 1. 1. 1. 1. 1. 1. 1. 1. 1. 1. 1. 1. 1. 1. 1. 1. 1. 1. 1.]\n",
      " [1. 1. 1. 1. 1. 1. 1. 1. 1. 1. 1. 1. 1. 1. 1. 1. 1. 1. 1. 1.]\n",
      " [1. 1. 1. 1. 1. 1. 1. 1. 1. 1. 1. 1. 1. 1. 1. 1. 1. 1. 1. 1.]\n",
      " [1. 1. 1. 1. 1. 1. 1. 1. 1. 1. 1. 1. 1. 1. 1. 1. 1. 1. 1. 1.]\n",
      " [1. 1. 1. 1. 1. 1. 1. 1. 1. 1. 1. 1. 1. 1. 1. 1. 1. 1. 1. 1.]\n",
      " [1. 1. 1. 1. 1. 1. 1. 1. 1. 1. 1. 1. 1. 1. 1. 1. 1. 1. 1. 1.]\n",
      " [1. 1. 1. 1. 1. 1. 1. 1. 1. 1. 1. 1. 1. 1. 1. 1. 1. 1. 1. 1.]\n",
      " [1. 1. 1. 1. 1. 1. 1. 1. 1. 1. 1. 1. 1. 1. 1. 1. 1. 1. 1. 1.]\n",
      " [1. 1. 1. 1. 1. 1. 1. 1. 1. 1. 1. 1. 1. 1. 1. 1. 1. 1. 1. 1.]\n",
      " [1. 1. 1. 1. 1. 1. 1. 1. 1. 1. 1. 1. 1. 1. 1. 1. 1. 1. 1. 1.]\n",
      " [1. 1. 1. 1. 1. 1. 1. 1. 1. 1. 1. 1. 1. 1. 1. 1. 1. 1. 1. 1.]\n",
      " [1. 1. 1. 1. 1. 1. 1. 1. 1. 1. 1. 1. 1. 1. 1. 1. 1. 1. 1. 1.]\n",
      " [1. 1. 1. 1. 1. 1. 1. 1. 1. 1. 1. 1. 1. 1. 1. 1. 1. 1. 1. 1.]\n",
      " [1. 1. 1. 1. 1. 1. 1. 1. 1. 1. 1. 1. 1. 1. 1. 1. 1. 1. 1. 1.]\n",
      " [1. 1. 1. 1. 1. 1. 1. 1. 1. 1. 1. 1. 1. 1. 1. 1. 1. 1. 1. 1.]]\n"
     ]
    }
   ],
   "source": [
    "def create_fovea_filters(width_fovea, height_fovea):\n",
    "    # Example distribution of cone cells and rod cells (percentages)\n",
    "    red_cones = 0.30  # percentage\n",
    "    green_cones = 0.50  # percentage\n",
    "    blue_cones = 0.10  # percentage\n",
    "    rod = 0.10  # percentage\n",
    "    \n",
    "    # Total number of pixels in the fovea\n",
    "    total_pixels = width_fovea * height_fovea\n",
    "\n",
    "    # Calculate number of cells based on percentages\n",
    "    red_cells = int(red_cones * total_pixels)\n",
    "    \n",
    "    green_cells = int(green_cones  * total_pixels)\n",
    "\n",
    "    blue_cells = int(blue_cones * total_pixels)\n",
    "    rod_cells = int(rod * total_pixels)\n",
    "    \n",
    "    # Create an array to hold the filters (values 1, 2, 3, 4)\n",
    "    filters = np.zeros((height_fovea, width_fovea))\n",
    "    \n",
    "    filters[:red_cells] = 1\n",
    "    filters[red_cells:red_cells + green_cells] = 2\n",
    "    filters[red_cells + green_cells:red_cells + green_cells + blue_cells] = 3\n",
    "    filters[red_cells + green_cells + blue_cells:red_cells + green_cells + blue_cells + rod_cells] = 4\n",
    "\n",
    "    \n",
    "    # Shuffle the array to randomize the distribution\n",
    "    np.random.shuffle(filters)\n",
    "    \n",
    "    return filters\n",
    "\n",
    "# Example dimensions of the fovea grid\n",
    "width_fovea = 20\n",
    "height_fovea = 20\n",
    "\n",
    "# Create the fovea filters\n",
    "fovea_filters = create_fovea_filters(width_fovea, height_fovea)\n",
    "print(fovea_filters)\n",
    "# # Plot the filters using matplotlib\n",
    "# plt.imshow(fovea_filters, cmap='viridis', vmin=1, vmax=4, interpolation='nearest')\n",
    "# plt.colorbar(ticks=[1, 2, 3, 4])\n",
    "# plt.title(\"Fovea Filters\")\n",
    "# plt.show()\n"
   ]
  },
  {
   "cell_type": "code",
   "execution_count": 85,
   "id": "87892cd7-5d78-44a3-bddc-e94ed54f61b9",
   "metadata": {},
   "outputs": [
    {
     "data": {
      "image/png": "[encoded data removed]",
      "text/plain": [
       "<Figure size 600x600 with 2 Axes>"
      ]
     },
     "metadata": {},
     "output_type": "display_data"
    }
   ],
   "source": [
    "import numpy as np\n",
    "import matplotlib.pyplot as plt\n",
    "\n",
    "def create_custom_distribution_array(n, m, distributions):\n",
    "    total_elements = n * m\n",
    "    array = np.zeros((n, m), dtype=int)\n",
    "\n",
    "    for value, percentage in distributions.items():\n",
    "        num_elements = int(total_elements * percentage)\n",
    "        indices = np.random.choice(total_elements, num_elements, replace=False)\n",
    "        row_indices, col_indices = np.unravel_index(indices, array.shape)\n",
    "        array[row_indices, col_indices] = value\n",
    "\n",
    "    return array\n",
    "\n",
    "# Example distributions (change percentages and values as needed)\n",
    "distributions = {\n",
    "    1: 0.1,   # 10% of elements will be 1\n",
    "    2: 0.3,   # 30% of elements will be 2\n",
    "    3: 0.2,   # 20% of elements will be 3\n",
    "    4: 0.4    # 40% of elements will be 4\n",
    "}\n",
    "\n",
    "# Example dimensions\n",
    "n = 10   # Number of rows\n",
    "m = 10   # Number of columns\n",
    "\n",
    "# Create the array with custom distributions\n",
    "custom_array = create_custom_distribution_array(n, m, distributions)\n",
    "\n",
    "# Display the array as a heatmap\n",
    "plt.figure(figsize=(6, 6))\n",
    "plt.imshow(custom_array, cmap='viridis', interpolation='nearest')\n",
    "plt.colorbar(label='Values')\n",
    "plt.title('Custom Distribution Array')\n",
    "plt.xlabel('Columns')\n",
    "plt.ylabel('Rows')\n",
    "plt.xticks(np.arange(m))\n",
    "plt.yticks(np.arange(n))\n",
    "plt.grid(visible=False)\n",
    "plt.show()\n"
   ]
  },
  {
   "cell_type": "code",
   "execution_count": null,
   "id": "c66a7d92-cc3e-4232-95d5-4c7124d00356",
   "metadata": {},
   "outputs": [],
   "source": []
  }
 ],
 "metadata": {
  "kernelspec": {
   "display_name": "Python 3 (ipykernel)",
   "language": "python",
   "name": "python3"
  },
  "language_info": {
   "codemirror_mode": {
    "name": "ipython",
    "version": 3
   },
   "file_extension": ".py",
   "mimetype": "text/x-python",
   "name": "python",
   "nbconvert_exporter": "python",
   "pygments_lexer": "ipython3",
   "version": "3.11.5"
  }
 },
 "nbformat": 4,
 "nbformat_minor": 5
}
