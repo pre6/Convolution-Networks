{
 "cells": [
  {
   "cell_type": "markdown",
   "id": "2298921e-b55e-4cab-a8a0-b31044446401",
   "metadata": {},
   "source": [
    "# Getting the distributions of the Rods and cone cells\n",
    "\n",
    "Im not really sure how to do this.  really have to think about how i want to show the fovea vs the cone and rod cells.\n",
    "\n",
    "one get the size of the input image. \n",
    "\n",
    "how to approximate the size of the foevea?"
   ]
  },
  {
   "cell_type": "code",
   "execution_count": 1,
   "id": "6945cf91-d572-496e-8c06-1b9283221a7a",
   "metadata": {},
   "outputs": [],
   "source": [
    "from PIL import Image\n",
    "import numpy as np\n",
    "import colorsys\n",
    "import matplotlib.pyplot as plt\n",
    "import matplotlib.image as mpimg\n",
    "\n",
    "\n",
    "\n"
   ]
  },
  {
   "cell_type": "markdown",
   "id": "0e0d637a-3a99-47df-aa44-60a78c9f993c",
   "metadata": {},
   "source": [
    "1. get the shape of the images\n",
    "2. calculate how much is 0.5% of the total number of pixels\n",
    "3. get all the factors of the number of the 0.5% pixels\n",
    "4. get the middle two factors\n",
    "5. find half the length and half the width of the shape file, that will be the starting pixel.\n",
    "6. then find half the width and half the length of the fovea thats the length that you add on and subtract in the starting pixel\n",
    "7. create a filter and find the appropriate pixels for the fovea.\n",
    "8. "
   ]
  },
  {
   "cell_type": "code",
   "execution_count": null,
   "id": "7af5ef7e-2ff0-4756-8e21-af119e84e820",
   "metadata": {},
   "outputs": [],
   "source": []
  }
 ],
 "metadata": {
  "kernelspec": {
   "display_name": "Python 3 (ipykernel)",
   "language": "python",
   "name": "python3"
  },
  "language_info": {
   "codemirror_mode": {
    "name": "ipython",
    "version": 3
   },
   "file_extension": ".py",
   "mimetype": "text/x-python",
   "name": "python",
   "nbconvert_exporter": "python",
   "pygments_lexer": "ipython3",
   "version": "3.11.5"
  }
 },
 "nbformat": 4,
 "nbformat_minor": 5
}
