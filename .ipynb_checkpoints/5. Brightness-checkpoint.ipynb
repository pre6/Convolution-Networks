{
 "cells": [
  {
   "cell_type": "markdown",
   "id": "a821f59a-2439-409f-bdf5-0dd8fb09ac5c",
   "metadata": {},
   "source": [
    "# I realize that rods cells only activate under a certain brightness. so now i need to not only calculate the wavelength but also the brightness of an image"
   ]
  },
  {
   "cell_type": "code",
   "execution_count": null,
   "id": "fb2d06da-e5a7-4070-bed6-9acf0ecf4288",
   "metadata": {},
   "outputs": [],
   "source": []
  }
 ],
 "metadata": {
  "kernelspec": {
   "display_name": "Python 3 (ipykernel)",
   "language": "python",
   "name": "python3"
  },
  "language_info": {
   "codemirror_mode": {
    "name": "ipython",
    "version": 3
   },
   "file_extension": ".py",
   "mimetype": "text/x-python",
   "name": "python",
   "nbconvert_exporter": "python",
   "pygments_lexer": "ipython3",
   "version": "3.11.5"
  }
 },
 "nbformat": 4,
 "nbformat_minor": 5
}
