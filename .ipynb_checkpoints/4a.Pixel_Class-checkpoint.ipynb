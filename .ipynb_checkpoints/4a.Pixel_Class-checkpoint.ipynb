{
 "cells": [
  {
   "cell_type": "markdown",
   "id": "fd9ca48b-86e7-4525-877b-c49d3ec0c7a0",
   "metadata": {},
   "source": [
    "# i need a pixel level CLass"
   ]
  },
  {
   "cell_type": "code",
   "execution_count": 11,
   "id": "6d54acda-2364-463d-82a4-8d082e26bf6a",
   "metadata": {},
   "outputs": [
    {
     "name": "stdout",
     "output_type": "stream",
     "text": [
      "0.7047796885257563\n",
      "0.907976583128545\n",
      "0.4757861976675025\n",
      "0.16929373030904477\n"
     ]
    }
   ],
   "source": [
    "class Pixel:\n",
    "    def __init__(self, wavelength):\n",
    "        self.wavelength = wavelength\n",
    "\n",
    "    \n",
    "\n",
    "    @property\n",
    "    def rod(self):\n",
    "        return 150 * np.exp(-((self.wavelength - 500) ** 2) / (2 * 60 ** 2)) / (60 * np.sqrt(2 * np.pi))\n",
    "\n",
    "    @property\n",
    "    def s_cone(self):\n",
    "        return 150 * np.exp(-((self.wavelength - 424) ** 2) / (2 * 60 ** 2)) / (60 * np.sqrt(2 * np.pi))\n",
    "\n",
    "    @property\n",
    "    def m_cone(self):\n",
    "        return 150 * np.exp(-((self.wavelength - 523) ** 2) / (2 * 60 ** 2)) / (60 * np.sqrt(2 * np.pi))\n",
    "\n",
    "    @property\n",
    "    def l_cone(self):\n",
    "        return 150 * np.exp(-((self.wavelength - 563) ** 2) / (2 * 60 ** 2)) / (60 * np.sqrt(2 * np.pi))\n",
    "\n",
    "# Example usage\n",
    "pixel1 = Pixel(450)\n",
    "print(pixel1.rod)     # Output: 0\n",
    "print(pixel1.s_cone)  # Output: 1\n",
    "print(pixel1.m_cone)  # Output: 0\n",
    "print(pixel1.l_cone)  # Output: 0\n"
   ]
  },
  {
   "cell_type": "code",
   "execution_count": null,
   "id": "b6a6e26a-05ce-48f4-8c2e-978970527722",
   "metadata": {},
   "outputs": [],
   "source": []
  }
 ],
 "metadata": {
  "kernelspec": {
   "display_name": "Python 3 (ipykernel)",
   "language": "python",
   "name": "python3"
  },
  "language_info": {
   "codemirror_mode": {
    "name": "ipython",
    "version": 3
   },
   "file_extension": ".py",
   "mimetype": "text/x-python",
   "name": "python",
   "nbconvert_exporter": "python",
   "pygments_lexer": "ipython3",
   "version": "3.11.5"
  }
 },
 "nbformat": 4,
 "nbformat_minor": 5
}
