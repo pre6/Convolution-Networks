{
 "cells": [
  {
   "cell_type": "markdown",
   "id": "bec8a551-6df6-41ae-babd-44069f8500f4",
   "metadata": {},
   "source": [
    "# Creating a class for Image manipulations\n",
    "<h1>Introduction</h1>\n",
    "\n",
    "Its hard when I have to call the same functions over and over to do the same manipulations. I was thinking I could make a class and some methods that would do the same thing. \n",
    "so here is the image to wavelength method. I will be creating more methos for each of the retinas."
   ]
  },
  {
   "cell_type": "code",
   "execution_count": 11,
   "id": "de5e6be2-73d2-4b7a-9609-090cd06788c5",
   "metadata": {},
   "outputs": [],
   "source": [
    "from PIL import Image\n",
    "import numpy as np\n",
    "import colorsys\n",
    "\n",
    "class ImageConverter:\n",
    "    \n",
    "    def __init__(self, image_path):\n",
    "        # ImageConverter(path of file)\n",
    "        self.image_path = image_path\n",
    "        # coverts it to RBG\n",
    "        self.image = Image.open(image_path).convert(\"RGB\")\n",
    "    \n",
    "    @staticmethod\n",
    "    def rgb_to_wavelength(r, g, b):\n",
    "        # Normalize RGB values to the range [0, 1]\n",
    "        r, g, b = r / 255.0, g / 255.0, b / 255.0\n",
    "        \n",
    "        # Convert RGB to HSV\n",
    "        h, s, v = colorsys.rgb_to_hsv(r, g, b)\n",
    "        \n",
    "        # Convert hue to degrees\n",
    "        h_deg = h * 360\n",
    "        \n",
    "        # Map hue to wavelength\n",
    "        if 0 <= h_deg < 60:\n",
    "            wavelength = 620 - (h_deg / 60) * (620 - 590)\n",
    "        elif 60 <= h_deg < 120:\n",
    "            wavelength = 590 - ((h_deg - 60) / 60) * (590 - 495)\n",
    "        elif 120 <= h_deg < 180:\n",
    "            wavelength = 495 - ((h_deg - 120) / 60) * (495 - 480)\n",
    "        elif 180 <= h_deg < 240:\n",
    "            wavelength = 480 - ((h_deg - 180) / 60) * (480 - 450)\n",
    "        elif 240 <= h_deg < 300:\n",
    "            wavelength = 450 - ((h_deg - 240) / 60) * (450 - 400)\n",
    "        else:\n",
    "            wavelength = 400 + ((h_deg - 300) / 60) * (620 - 400)\n",
    "        \n",
    "        return wavelength\n",
    "\n",
    "    @staticmethod\n",
    "    def rgb_to_brightness(r, g, b):\n",
    "        # Convert RGB to HSV to get the brightness (value) component\n",
    "        h, s, v = colorsys.rgb_to_hsv(r/255.0, g/255.0, b/255.0)\n",
    "        return v * 255\n",
    "\n",
    "    \n",
    "    def image_to_wavelengths(self):\n",
    "        # Get image dimensions\n",
    "        width, height = self.image.size\n",
    "        \n",
    "        # Create an array to hold the wavelength values\n",
    "        wavelength_array = np.zeros((height, width))\n",
    "        \n",
    "        # Process each pixel\n",
    "        for y in range(height):\n",
    "            for x in range(width):\n",
    "                r, g, b = self.image.getpixel((x, y))\n",
    "                wavelength = self.rgb_to_wavelength(r, g, b)\n",
    "                wavelength_array[y, x] = wavelength\n",
    "        \n",
    "        return wavelength_array\n",
    "\n",
    "\n",
    "\n",
    "    def image_to_brightness(self):\n",
    "        # Get image dimensions\n",
    "        width, height = self.image.size\n",
    "        \n",
    "        # Create an array to hold the wavelength values\n",
    "        wavelength_array_b = np.zeros((height, width))\n",
    "        \n",
    "        # Process each pixel\n",
    "        for y in range(height):\n",
    "            for x in range(width):\n",
    "                r, g, b = self.image.getpixel((x, y))\n",
    "                brightness = self.rgb_to_brightness(r, g, b)\n",
    "                wavelength_array_b[y, x] = brightness\n",
    "        \n",
    "        return wavelength_array_b\n",
    "\n",
    "    def image_shape(self):\n",
    "        return self.image.size\n",
    "\n",
    "# Example usage\n",
    "# converter = ImageConverter(\"text_image_1.jpg\")\n",
    "# wavelengths = converter.image_to_wavelengths()\n",
    "# print(wavelengths)"
   ]
  },
  {
   "cell_type": "code",
   "execution_count": 12,
   "id": "aa9367b6-6c52-4255-8b16-dd915edeac36",
   "metadata": {},
   "outputs": [],
   "source": [
    "# converter = ImageConverter(\"text_image_1.jpg\")\n",
    "# brightness = converter.image_to_brightness()\n",
    "# print(brightness)"
   ]
  },
  {
   "cell_type": "code",
   "execution_count": 13,
   "id": "b0a99537-8e0b-414a-a7db-0de280b747c0",
   "metadata": {},
   "outputs": [
    {
     "name": "stdout",
     "output_type": "stream",
     "text": [
      "(768, 1366)\n"
     ]
    }
   ],
   "source": [
    "print(brightness.shape)"
   ]
  },
  {
   "cell_type": "code",
   "execution_count": 14,
   "id": "e5a6da2b-a8a8-4a2a-bc28-fb7a6f87af84",
   "metadata": {},
   "outputs": [
    {
     "name": "stdout",
     "output_type": "stream",
     "text": [
      "(1366, 768)\n"
     ]
    }
   ],
   "source": [
    "image_shape = converter.image_shape()\n",
    "print(image_shape)\n"
   ]
  },
  {
   "cell_type": "code",
   "execution_count": null,
   "id": "a727690f-43cf-403d-9ae7-f493461f932e",
   "metadata": {},
   "outputs": [],
   "source": []
  },
  {
   "cell_type": "code",
   "execution_count": null,
   "id": "f3f375fe-e95c-476a-acea-b42fa9322a09",
   "metadata": {},
   "outputs": [],
   "source": []
  }
 ],
 "metadata": {
  "kernelspec": {
   "display_name": "Python 3 (ipykernel)",
   "language": "python",
   "name": "python3"
  },
  "language_info": {
   "codemirror_mode": {
    "name": "ipython",
    "version": 3
   },
   "file_extension": ".py",
   "mimetype": "text/x-python",
   "name": "python",
   "nbconvert_exporter": "python",
   "pygments_lexer": "ipython3",
   "version": "3.11.5"
  }
 },
 "nbformat": 4,
 "nbformat_minor": 5
}
